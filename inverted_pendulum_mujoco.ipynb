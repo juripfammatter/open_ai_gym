{
 "cells": [
  {
   "cell_type": "code",
   "execution_count": 21,
   "metadata": {},
   "outputs": [],
   "source": [
    "from __future__ import annotations\n",
    "\n",
    "import random\n",
    "\n",
    "import matplotlib.pyplot as plt\n",
    "import numpy as np\n",
    "import pandas as pd\n",
    "import seaborn as sns\n",
    "import torch\n",
    "import torch.nn as nn\n",
    "from torch.distributions.normal import Normal\n",
    "\n",
    "import gymnasium as gym"
   ]
  },
  {
   "attachments": {},
   "cell_type": "markdown",
   "metadata": {},
   "source": [
    "# Neural Network"
   ]
  },
  {
   "cell_type": "code",
   "execution_count": 22,
   "metadata": {},
   "outputs": [],
   "source": [
    "class Policy_Network(nn.Module):\n",
    "    \"\"\"Parametrized Policy Network.\"\"\"\n",
    "\n",
    "    def __init__(self, obs_space_dims: int, action_space_dims: int):\n",
    "        \"\"\"Initializes a neural network that estimates the mean and standard deviation\n",
    "         of a normal distribution from which an action is sampled from.\n",
    "\n",
    "        Args:\n",
    "            obs_space_dims: Dimension of the observation space\n",
    "            action_space_dims: Dimension of the action space\n",
    "        \"\"\"\n",
    "        super().__init__()\n",
    "\n",
    "        hidden_space1 = 16  # Nothing special with 16, feel free to change\n",
    "        hidden_space2 = 32  # Nothing special with 32, feel free to change\n",
    "\n",
    "        # Shared Network\n",
    "        self.shared_net = nn.Sequential(\n",
    "            nn.Linear(obs_space_dims, hidden_space1),\n",
    "            nn.Tanh(),\n",
    "            nn.Linear(hidden_space1, hidden_space2),\n",
    "            nn.Tanh(),\n",
    "        )\n",
    "\n",
    "        # Policy Mean specific Linear Layer\n",
    "        self.policy_mean_net = nn.Sequential(\n",
    "            nn.Linear(hidden_space2, action_space_dims)\n",
    "        )\n",
    "\n",
    "        # Policy Std Dev specific Linear Layer\n",
    "        self.policy_stddev_net = nn.Sequential(\n",
    "            nn.Linear(hidden_space2, action_space_dims)\n",
    "        )\n",
    "\n",
    "    def forward(self, x: torch.Tensor) -> tuple[torch.Tensor, torch.Tensor]:\n",
    "        \"\"\"Conditioned on the observation, returns the mean and standard deviation\n",
    "         of a normal distribution from which an action is sampled from.\n",
    "\n",
    "        Args:\n",
    "            x: Observation from the environment\n",
    "\n",
    "        Returns:\n",
    "            action_means: predicted mean of the normal distribution\n",
    "            action_stddevs: predicted standard deviation of the normal distribution\n",
    "        \"\"\"\n",
    "        shared_features = self.shared_net(x.float())\n",
    "\n",
    "        action_means = self.policy_mean_net(shared_features)\n",
    "        action_stddevs = torch.log(\n",
    "            1 + torch.exp(self.policy_stddev_net(shared_features))\n",
    "        )\n",
    "\n",
    "        return action_means, action_stddevs"
   ]
  },
  {
   "attachments": {},
   "cell_type": "markdown",
   "metadata": {},
   "source": [
    "# Agent"
   ]
  },
  {
   "cell_type": "code",
   "execution_count": 23,
   "metadata": {},
   "outputs": [],
   "source": [
    "class REINFORCE:\n",
    "    \"\"\"REINFORCE algorithm.\"\"\"\n",
    "\n",
    "    def __init__(self, obs_space_dims: int, action_space_dims: int):\n",
    "        \"\"\"Initializes an agent that learns a policy via REINFORCE algorithm [1]\n",
    "        to solve the task at hand (Inverted Pendulum v4).\n",
    "\n",
    "        Args:\n",
    "            obs_space_dims: Dimension of the observation space\n",
    "            action_space_dims: Dimension of the action space\n",
    "        \"\"\"\n",
    "\n",
    "        # Hyperparameters\n",
    "        self.learning_rate = 3e-4 #1e-4  # Learning rate for policy optimization\n",
    "        self.gamma = 0.99  # Discount factor\n",
    "        self.eps = 1e-6  # small number for mathematical stability\n",
    "\n",
    "        self.probs = []  # Stores probability values of the sampled action\n",
    "        self.rewards = []  # Stores the corresponding rewards\n",
    "\n",
    "        self.net = Policy_Network(obs_space_dims, action_space_dims)\n",
    "        self.optimizer = torch.optim.AdamW(self.net.parameters(), lr=self.learning_rate)\n",
    "\n",
    "    def sample_action(self, state: np.ndarray) -> float:\n",
    "        \"\"\"Returns an action, conditioned on the policy and observation.\n",
    "\n",
    "        Args:\n",
    "            state: Observation from the environment\n",
    "\n",
    "        Returns:\n",
    "            action: Action to be performed\n",
    "        \"\"\"\n",
    "        state = torch.tensor(np.array([state]))\n",
    "        action_means, action_stddevs = self.net(state)\n",
    "\n",
    "        # create a normal distribution from the predicted\n",
    "        #   mean and standard deviation and sample an action\n",
    "        distrib = Normal(action_means[0] + self.eps, action_stddevs[0] + self.eps)\n",
    "        action = distrib.sample()\n",
    "        prob = distrib.log_prob(action)\n",
    "\n",
    "        action = action.numpy()\n",
    "\n",
    "        self.probs.append(prob)\n",
    "\n",
    "        return action\n",
    "\n",
    "    def update(self):\n",
    "        \"\"\"Updates the policy network's weights.\"\"\"\n",
    "        running_g = 0\n",
    "        gs = []\n",
    "\n",
    "        # Discounted return (backwards) - [::-1] will return an array in reverse\n",
    "        for R in self.rewards[::-1]:\n",
    "            running_g = R + self.gamma * running_g\n",
    "            gs.insert(0, running_g)\n",
    "\n",
    "        deltas = torch.tensor(gs)\n",
    "\n",
    "        loss = 0\n",
    "        # minimize -1 * prob * reward obtained\n",
    "        for log_prob, delta in zip(self.probs, deltas):\n",
    "            loss += log_prob.mean() * delta * (-1)\n",
    "\n",
    "        # Update the policy network\n",
    "        self.optimizer.zero_grad()\n",
    "        loss.backward()\n",
    "        self.optimizer.step()\n",
    "\n",
    "        # Empty / zero out all episode-centric/related variables\n",
    "        self.probs = []\n",
    "        self.rewards = []"
   ]
  },
  {
   "attachments": {},
   "cell_type": "markdown",
   "metadata": {},
   "source": [
    "# Training"
   ]
  },
  {
   "cell_type": "code",
   "execution_count": 24,
   "metadata": {},
   "outputs": [
    {
     "name": "stdout",
     "output_type": "stream",
     "text": [
      "Episode: 0 Average Reward: 8\n",
      "Episode: 100 Average Reward: 17\n",
      "Episode: 200 Average Reward: 20\n",
      "Episode: 300 Average Reward: 34\n",
      "Episode: 400 Average Reward: 53\n",
      "Episode: 500 Average Reward: 71\n",
      "Episode: 600 Average Reward: 86\n",
      "Episode: 700 Average Reward: 97\n",
      "Episode: 800 Average Reward: 101\n",
      "Episode: 900 Average Reward: 87\n",
      "Episode: 1000 Average Reward: 125\n",
      "Episode: 1100 Average Reward: 144\n",
      "Episode: 1200 Average Reward: 141\n",
      "Episode: 1300 Average Reward: 142\n",
      "Episode: 1400 Average Reward: 178\n",
      "Episode: 1500 Average Reward: 183\n",
      "Episode: 1600 Average Reward: 242\n",
      "Episode: 1700 Average Reward: 179\n",
      "Episode: 1800 Average Reward: 206\n",
      "Episode: 1900 Average Reward: 360\n",
      "Episode: 2000 Average Reward: 265\n",
      "Episode: 2100 Average Reward: 661\n",
      "Episode: 2200 Average Reward: 809\n",
      "Episode: 2300 Average Reward: 627\n",
      "Episode: 2400 Average Reward: 653\n",
      "Episode: 2500 Average Reward: 978\n",
      "Episode: 2600 Average Reward: 735\n",
      "Episode: 2700 Average Reward: 972\n",
      "Episode: 2800 Average Reward: 819\n",
      "Episode: 2900 Average Reward: 866\n",
      "Episode: 3000 Average Reward: 978\n",
      "Episode: 3100 Average Reward: 1000\n",
      "Episode: 3200 Average Reward: 964\n",
      "Episode: 3300 Average Reward: 992\n",
      "Episode: 3400 Average Reward: 985\n",
      "Episode: 3500 Average Reward: 981\n",
      "Episode: 3600 Average Reward: 963\n",
      "Episode: 3700 Average Reward: 966\n",
      "Episode: 3800 Average Reward: 984\n",
      "Episode: 3900 Average Reward: 731\n",
      "Episode: 4000 Average Reward: 987\n",
      "Episode: 4100 Average Reward: 983\n",
      "Episode: 4200 Average Reward: 995\n",
      "Episode: 4300 Average Reward: 1000\n",
      "Episode: 4400 Average Reward: 1000\n",
      "Episode: 4500 Average Reward: 983\n",
      "Episode: 4600 Average Reward: 973\n",
      "Episode: 4700 Average Reward: 986\n",
      "Episode: 4800 Average Reward: 990\n",
      "Episode: 4900 Average Reward: 945\n"
     ]
    }
   ],
   "source": [
    "# Create and wrap the environment\n",
    "env = gym.make(\"InvertedPendulum-v4\")\n",
    "wrapped_env = gym.wrappers.RecordEpisodeStatistics(env, 50)  # Records episode-reward\n",
    "\n",
    "total_num_episodes = int(5e3)  # Total number of episodes\n",
    "# Observation-space of InvertedPendulum-v4 (4)\n",
    "obs_space_dims = env.observation_space.shape[0]\n",
    "# Action-space of InvertedPendulum-v4 (1)\n",
    "action_space_dims = env.action_space.shape[0]\n",
    "rewards_over_seeds = []\n",
    "\n",
    "for seed in [1]: #[1, 2, 3, 5, 8]:  # Fibonacci seeds\n",
    "    # set seed\n",
    "    torch.manual_seed(seed)\n",
    "    random.seed(seed)\n",
    "    np.random.seed(seed)\n",
    "\n",
    "    # Reinitialize agent every seed\n",
    "    agent = REINFORCE(obs_space_dims, action_space_dims)\n",
    "    reward_over_episodes = []\n",
    "\n",
    "    for episode in range(total_num_episodes):\n",
    "        # gymnasium v26 requires users to set seed while resetting the environment\n",
    "        obs, info = wrapped_env.reset(seed=seed)\n",
    "\n",
    "        done = False\n",
    "        while not done:\n",
    "            action = agent.sample_action(obs)\n",
    "\n",
    "            # Step return type - `tuple[ObsType, SupportsFloat, bool, bool, dict[str, Any]]`\n",
    "            # These represent the next observation, the reward from the step,\n",
    "            # if the episode is terminated, if the episode is truncated and\n",
    "            # additional info from the step\n",
    "            obs, reward, terminated, truncated, info = wrapped_env.step(action)\n",
    "            agent.rewards.append(reward)\n",
    "\n",
    "            # End the episode when either truncated or terminated is true\n",
    "            #  - truncated: The episode duration reaches max number of timesteps\n",
    "            #  - terminated: Any of the state space values is no longer finite.\n",
    "            done = terminated or truncated\n",
    "\n",
    "        reward_over_episodes.append(wrapped_env.return_queue[-1])\n",
    "        # update weights (training)\n",
    "        agent.update()\n",
    "\n",
    "        if episode % 100 == 0:\n",
    "            avg_reward = int(np.mean(wrapped_env.return_queue))\n",
    "            print(\"Episode:\", episode, \"Average Reward:\", avg_reward)\n",
    "\n",
    "    rewards_over_seeds.append(reward_over_episodes)"
   ]
  },
  {
   "cell_type": "code",
   "execution_count": 25,
   "metadata": {},
   "outputs": [
    {
     "data": {
      "image/png": "[encoded data removed]",
      "text/plain": [
       "<Figure size 1000x500 with 1 Axes>"
      ]
     },
     "metadata": {},
     "output_type": "display_data"
    }
   ],
   "source": [
    "rewards_to_plot = [[reward[0] for reward in rewards] for rewards in rewards_over_seeds]\n",
    "df1 = pd.DataFrame(rewards_to_plot).melt()\n",
    "df1.rename(columns={\"variable\": \"episodes\", \"value\": \"reward\"}, inplace=True)\n",
    "\n",
    "plt.rcParams[\"figure.figsize\"] = (10, 5)\n",
    "sns.set(style=\"darkgrid\", context=\"talk\", palette=\"rainbow\")\n",
    "sns.lineplot(x=\"episodes\", y=\"reward\", data=df1, linewidth = 0.5).set(\n",
    "    title=\"REINFORCE for InvertedPendulum-v4\"\n",
    ")\n",
    "plt.show()"
   ]
  },
  {
   "attachments": {},
   "cell_type": "markdown",
   "metadata": {},
   "source": [
    "# Test"
   ]
  },
  {
   "cell_type": "code",
   "execution_count": 28,
   "metadata": {},
   "outputs": [
    {
     "name": "stdout",
     "output_type": "stream",
     "text": [
      "Episode: 0 Average Reward: 1000\n",
      "Episode: 1 Average Reward: 1000\n",
      "Episode: 2 Average Reward: 869\n",
      "Episode: 3 Average Reward: 901\n"
     ]
    },
    {
     "ename": "KeyboardInterrupt",
     "evalue": "",
     "output_type": "error",
     "traceback": [
      "\u001b[0;31m---------------------------------------------------------------------------\u001b[0m",
      "\u001b[0;31mKeyboardInterrupt\u001b[0m                         Traceback (most recent call last)",
      "Cell \u001b[0;32mIn[28], line 34\u001b[0m\n\u001b[1;32m     28\u001b[0m action \u001b[39m=\u001b[39m agent\u001b[39m.\u001b[39msample_action(obs)\n\u001b[1;32m     30\u001b[0m \u001b[39m# Step return type - `tuple[ObsType, SupportsFloat, bool, bool, dict[str, Any]]`\u001b[39;00m\n\u001b[1;32m     31\u001b[0m \u001b[39m# These represent the next observation, the reward from the step,\u001b[39;00m\n\u001b[1;32m     32\u001b[0m \u001b[39m# if the episode is terminated, if the episode is truncated and\u001b[39;00m\n\u001b[1;32m     33\u001b[0m \u001b[39m# additional info from the step\u001b[39;00m\n\u001b[0;32m---> 34\u001b[0m obs, reward, terminated, truncated, info \u001b[39m=\u001b[39m wrapped_test_env\u001b[39m.\u001b[39;49mstep(action)\n\u001b[1;32m     35\u001b[0m \u001b[39m#agent.rewards.append(reward)\u001b[39;00m\n\u001b[1;32m     36\u001b[0m \n\u001b[1;32m     37\u001b[0m \u001b[39m# End the episode when either truncated or terminated is true\u001b[39;00m\n\u001b[1;32m     38\u001b[0m \u001b[39m#  - truncated: The episode duration reaches max number of timesteps\u001b[39;00m\n\u001b[1;32m     39\u001b[0m \u001b[39m#  - terminated: Any of the state space values is no longer finite.\u001b[39;00m\n\u001b[1;32m     40\u001b[0m done \u001b[39m=\u001b[39m terminated \u001b[39mor\u001b[39;00m truncated\n",
      "File \u001b[0;32m~/anaconda3/envs/ML/lib/python3.10/site-packages/gymnasium/wrappers/record_episode_statistics.py:89\u001b[0m, in \u001b[0;36mRecordEpisodeStatistics.step\u001b[0;34m(self, action)\u001b[0m\n\u001b[1;32m     81\u001b[0m \u001b[39mdef\u001b[39;00m \u001b[39mstep\u001b[39m(\u001b[39mself\u001b[39m, action):\n\u001b[1;32m     82\u001b[0m \u001b[39m    \u001b[39m\u001b[39m\"\"\"Steps through the environment, recording the episode statistics.\"\"\"\u001b[39;00m\n\u001b[1;32m     83\u001b[0m     (\n\u001b[1;32m     84\u001b[0m         observations,\n\u001b[1;32m     85\u001b[0m         rewards,\n\u001b[1;32m     86\u001b[0m         terminations,\n\u001b[1;32m     87\u001b[0m         truncations,\n\u001b[1;32m     88\u001b[0m         infos,\n\u001b[0;32m---> 89\u001b[0m     ) \u001b[39m=\u001b[39m \u001b[39mself\u001b[39;49m\u001b[39m.\u001b[39;49menv\u001b[39m.\u001b[39;49mstep(action)\n\u001b[1;32m     90\u001b[0m     \u001b[39massert\u001b[39;00m \u001b[39misinstance\u001b[39m(\n\u001b[1;32m     91\u001b[0m         infos, \u001b[39mdict\u001b[39m\n\u001b[1;32m     92\u001b[0m     ), \u001b[39mf\u001b[39m\u001b[39m\"\u001b[39m\u001b[39m`info` dtype is \u001b[39m\u001b[39m{\u001b[39;00m\u001b[39mtype\u001b[39m(infos)\u001b[39m}\u001b[39;00m\u001b[39m while supported dtype is `dict`. This may be due to usage of other wrappers in the wrong order.\u001b[39m\u001b[39m\"\u001b[39m\n\u001b[1;32m     93\u001b[0m     \u001b[39mself\u001b[39m\u001b[39m.\u001b[39mepisode_returns \u001b[39m+\u001b[39m\u001b[39m=\u001b[39m rewards\n",
      "File \u001b[0;32m~/anaconda3/envs/ML/lib/python3.10/site-packages/gymnasium/wrappers/time_limit.py:57\u001b[0m, in \u001b[0;36mTimeLimit.step\u001b[0;34m(self, action)\u001b[0m\n\u001b[1;32m     46\u001b[0m \u001b[39mdef\u001b[39;00m \u001b[39mstep\u001b[39m(\u001b[39mself\u001b[39m, action):\n\u001b[1;32m     47\u001b[0m \u001b[39m    \u001b[39m\u001b[39m\"\"\"Steps through the environment and if the number of steps elapsed exceeds ``max_episode_steps`` then truncate.\u001b[39;00m\n\u001b[1;32m     48\u001b[0m \n\u001b[1;32m     49\u001b[0m \u001b[39m    Args:\u001b[39;00m\n\u001b[0;32m   (...)\u001b[0m\n\u001b[1;32m     55\u001b[0m \n\u001b[1;32m     56\u001b[0m \u001b[39m    \"\"\"\u001b[39;00m\n\u001b[0;32m---> 57\u001b[0m     observation, reward, terminated, truncated, info \u001b[39m=\u001b[39m \u001b[39mself\u001b[39;49m\u001b[39m.\u001b[39;49menv\u001b[39m.\u001b[39;49mstep(action)\n\u001b[1;32m     58\u001b[0m     \u001b[39mself\u001b[39m\u001b[39m.\u001b[39m_elapsed_steps \u001b[39m+\u001b[39m\u001b[39m=\u001b[39m \u001b[39m1\u001b[39m\n\u001b[1;32m     60\u001b[0m     \u001b[39mif\u001b[39;00m \u001b[39mself\u001b[39m\u001b[39m.\u001b[39m_elapsed_steps \u001b[39m>\u001b[39m\u001b[39m=\u001b[39m \u001b[39mself\u001b[39m\u001b[39m.\u001b[39m_max_episode_steps:\n",
      "File \u001b[0;32m~/anaconda3/envs/ML/lib/python3.10/site-packages/gymnasium/wrappers/order_enforcing.py:56\u001b[0m, in \u001b[0;36mOrderEnforcing.step\u001b[0;34m(self, action)\u001b[0m\n\u001b[1;32m     54\u001b[0m \u001b[39mif\u001b[39;00m \u001b[39mnot\u001b[39;00m \u001b[39mself\u001b[39m\u001b[39m.\u001b[39m_has_reset:\n\u001b[1;32m     55\u001b[0m     \u001b[39mraise\u001b[39;00m ResetNeeded(\u001b[39m\"\u001b[39m\u001b[39mCannot call env.step() before calling env.reset()\u001b[39m\u001b[39m\"\u001b[39m)\n\u001b[0;32m---> 56\u001b[0m \u001b[39mreturn\u001b[39;00m \u001b[39mself\u001b[39;49m\u001b[39m.\u001b[39;49menv\u001b[39m.\u001b[39;49mstep(action)\n",
      "File \u001b[0;32m~/anaconda3/envs/ML/lib/python3.10/site-packages/gymnasium/wrappers/env_checker.py:49\u001b[0m, in \u001b[0;36mPassiveEnvChecker.step\u001b[0;34m(self, action)\u001b[0m\n\u001b[1;32m     47\u001b[0m     \u001b[39mreturn\u001b[39;00m env_step_passive_checker(\u001b[39mself\u001b[39m\u001b[39m.\u001b[39menv, action)\n\u001b[1;32m     48\u001b[0m \u001b[39melse\u001b[39;00m:\n\u001b[0;32m---> 49\u001b[0m     \u001b[39mreturn\u001b[39;00m \u001b[39mself\u001b[39;49m\u001b[39m.\u001b[39;49menv\u001b[39m.\u001b[39;49mstep(action)\n",
      "File \u001b[0;32m~/anaconda3/envs/ML/lib/python3.10/site-packages/gymnasium/envs/mujoco/inverted_pendulum_v4.py:123\u001b[0m, in \u001b[0;36mInvertedPendulumEnv.step\u001b[0;34m(self, a)\u001b[0m\n\u001b[1;32m    121\u001b[0m terminated \u001b[39m=\u001b[39m \u001b[39mbool\u001b[39m(\u001b[39mnot\u001b[39;00m np\u001b[39m.\u001b[39misfinite(ob)\u001b[39m.\u001b[39mall() \u001b[39mor\u001b[39;00m (np\u001b[39m.\u001b[39mabs(ob[\u001b[39m1\u001b[39m]) \u001b[39m>\u001b[39m \u001b[39m0.2\u001b[39m))\n\u001b[1;32m    122\u001b[0m \u001b[39mif\u001b[39;00m \u001b[39mself\u001b[39m\u001b[39m.\u001b[39mrender_mode \u001b[39m==\u001b[39m \u001b[39m\"\u001b[39m\u001b[39mhuman\u001b[39m\u001b[39m\"\u001b[39m:\n\u001b[0;32m--> 123\u001b[0m     \u001b[39mself\u001b[39;49m\u001b[39m.\u001b[39;49mrender()\n\u001b[1;32m    124\u001b[0m \u001b[39mreturn\u001b[39;00m ob, reward, terminated, \u001b[39mFalse\u001b[39;00m, {}\n",
      "File \u001b[0;32m~/anaconda3/envs/ML/lib/python3.10/site-packages/gymnasium/envs/mujoco/mujoco_env.py:379\u001b[0m, in \u001b[0;36mMujocoEnv.render\u001b[0;34m(self)\u001b[0m\n\u001b[1;32m    378\u001b[0m \u001b[39mdef\u001b[39;00m \u001b[39mrender\u001b[39m(\u001b[39mself\u001b[39m):\n\u001b[0;32m--> 379\u001b[0m     \u001b[39mreturn\u001b[39;00m \u001b[39mself\u001b[39;49m\u001b[39m.\u001b[39;49mmujoco_renderer\u001b[39m.\u001b[39;49mrender(\n\u001b[1;32m    380\u001b[0m         \u001b[39mself\u001b[39;49m\u001b[39m.\u001b[39;49mrender_mode, \u001b[39mself\u001b[39;49m\u001b[39m.\u001b[39;49mcamera_id, \u001b[39mself\u001b[39;49m\u001b[39m.\u001b[39;49mcamera_name\n\u001b[1;32m    381\u001b[0m     )\n",
      "File \u001b[0;32m~/anaconda3/envs/ML/lib/python3.10/site-packages/gymnasium/envs/mujoco/mujoco_rendering.py:673\u001b[0m, in \u001b[0;36mMujocoRenderer.render\u001b[0;34m(self, render_mode, camera_id, camera_name)\u001b[0m\n\u001b[1;32m    670\u001b[0m     \u001b[39mreturn\u001b[39;00m img\n\u001b[1;32m    672\u001b[0m \u001b[39melif\u001b[39;00m render_mode \u001b[39m==\u001b[39m \u001b[39m\"\u001b[39m\u001b[39mhuman\u001b[39m\u001b[39m\"\u001b[39m:\n\u001b[0;32m--> 673\u001b[0m     \u001b[39mreturn\u001b[39;00m viewer\u001b[39m.\u001b[39;49mrender()\n",
      "File \u001b[0;32m~/anaconda3/envs/ML/lib/python3.10/site-packages/gymnasium/envs/mujoco/mujoco_rendering.py:413\u001b[0m, in \u001b[0;36mWindowViewer.render\u001b[0;34m(self)\u001b[0m\n\u001b[1;32m    411\u001b[0m         \u001b[39mself\u001b[39m\u001b[39m.\u001b[39m_loop_count \u001b[39m=\u001b[39m \u001b[39m1\u001b[39m\n\u001b[1;32m    412\u001b[0m     \u001b[39mwhile\u001b[39;00m \u001b[39mself\u001b[39m\u001b[39m.\u001b[39m_loop_count \u001b[39m>\u001b[39m \u001b[39m0\u001b[39m:\n\u001b[0;32m--> 413\u001b[0m         update()\n\u001b[1;32m    414\u001b[0m         \u001b[39mself\u001b[39m\u001b[39m.\u001b[39m_loop_count \u001b[39m-\u001b[39m\u001b[39m=\u001b[39m \u001b[39m1\u001b[39m\n\u001b[1;32m    416\u001b[0m \u001b[39m# clear overlay\u001b[39;00m\n",
      "File \u001b[0;32m~/anaconda3/envs/ML/lib/python3.10/site-packages/gymnasium/envs/mujoco/mujoco_rendering.py:385\u001b[0m, in \u001b[0;36mWindowViewer.render.<locals>.update\u001b[0;34m()\u001b[0m\n\u001b[1;32m    383\u001b[0m \u001b[39mif\u001b[39;00m \u001b[39mnot\u001b[39;00m \u001b[39mself\u001b[39m\u001b[39m.\u001b[39m_hide_menu:\n\u001b[1;32m    384\u001b[0m     \u001b[39mfor\u001b[39;00m gridpos, [t1, t2] \u001b[39min\u001b[39;00m \u001b[39mself\u001b[39m\u001b[39m.\u001b[39m_overlays\u001b[39m.\u001b[39mitems():\n\u001b[0;32m--> 385\u001b[0m         mujoco\u001b[39m.\u001b[39;49mmjr_overlay(\n\u001b[1;32m    386\u001b[0m             mujoco\u001b[39m.\u001b[39;49mmjtFontScale\u001b[39m.\u001b[39;49mmjFONTSCALE_150,\n\u001b[1;32m    387\u001b[0m             gridpos,\n\u001b[1;32m    388\u001b[0m             \u001b[39mself\u001b[39;49m\u001b[39m.\u001b[39;49mviewport,\n\u001b[1;32m    389\u001b[0m             t1,\n\u001b[1;32m    390\u001b[0m             t2,\n\u001b[1;32m    391\u001b[0m             \u001b[39mself\u001b[39;49m\u001b[39m.\u001b[39;49mcon,\n\u001b[1;32m    392\u001b[0m         )\n\u001b[1;32m    394\u001b[0m glfw\u001b[39m.\u001b[39mswap_buffers(\u001b[39mself\u001b[39m\u001b[39m.\u001b[39mwindow)\n\u001b[1;32m    395\u001b[0m glfw\u001b[39m.\u001b[39mpoll_events()\n",
      "\u001b[0;31mKeyboardInterrupt\u001b[0m: "
     ]
    }
   ],
   "source": [
    "# Create and wrap the environment\n",
    "test_env = gym.make(\"InvertedPendulum-v4\", render_mode = \"human\")\n",
    "wrapped_test_env = gym.wrappers.RecordEpisodeStatistics(test_env, 50)  # Records episode-reward\n",
    "\n",
    "total_num_episodes = int(10)  # Total number of episodes\n",
    "# Observation-space of InvertedPendulum-v4 (4)\n",
    "obs_space_dims = test_env.observation_space.shape[0]\n",
    "# Action-space of InvertedPendulum-v4 (1)\n",
    "action_space_dims = test_env.action_space.shape[0]\n",
    "\n",
    "\n",
    "# set seed\n",
    "seed = 42\n",
    "torch.manual_seed(seed)\n",
    "random.seed(seed)\n",
    "np.random.seed(seed)\n",
    "\n",
    "# Reinitialize agent every seed\n",
    "#agent = REINFORCE(obs_space_dims, action_space_dims)\n",
    "reward_over_episodes = []\n",
    "\n",
    "for episode in range(total_num_episodes):\n",
    "    # gymnasium v26 requires users to set seed while resetting the environment\n",
    "    obs, info = wrapped_test_env.reset(seed=seed)\n",
    "\n",
    "    done = False\n",
    "    while not done:\n",
    "        action = agent.sample_action(obs)\n",
    "\n",
    "        # Step return type - `tuple[ObsType, SupportsFloat, bool, bool, dict[str, Any]]`\n",
    "        # These represent the next observation, the reward from the step,\n",
    "        # if the episode is terminated, if the episode is truncated and\n",
    "        # additional info from the step\n",
    "        obs, reward, terminated, truncated, info = wrapped_test_env.step(action)\n",
    "        #agent.rewards.append(reward)\n",
    "\n",
    "        # End the episode when either truncated or terminated is true\n",
    "        #  - truncated: The episode duration reaches max number of timesteps\n",
    "        #  - terminated: Any of the state space values is no longer finite.\n",
    "        done = terminated or truncated\n",
    "\n",
    "    reward_over_episodes.append(wrapped_env.return_queue[-1])\n",
    "    \n",
    "\n",
    "    if episode % 1 == 0:\n",
    "        avg_reward = int(np.mean(wrapped_test_env.return_queue))\n",
    "        print(\"Episode:\", episode, \"Average Reward:\", avg_reward)"
   ]
  },
  {
   "cell_type": "code",
   "execution_count": 29,
   "metadata": {},
   "outputs": [],
   "source": [
    "test_env.close()"
   ]
  },
  {
   "attachments": {},
   "cell_type": "markdown",
   "metadata": {},
   "source": [
    "# Export model"
   ]
  },
  {
   "cell_type": "code",
   "execution_count": 38,
   "metadata": {},
   "outputs": [
    {
     "name": "stdout",
     "output_type": "stream",
     "text": [
      "Model's state_dict:\n",
      "shared_net.0.weight \t torch.Size([16, 4])\n",
      "shared_net.0.bias \t torch.Size([16])\n",
      "shared_net.2.weight \t torch.Size([32, 16])\n",
      "shared_net.2.bias \t torch.Size([32])\n",
      "policy_mean_net.0.weight \t torch.Size([1, 32])\n",
      "policy_mean_net.0.bias \t torch.Size([1])\n",
      "policy_stddev_net.0.weight \t torch.Size([1, 32])\n",
      "policy_stddev_net.0.bias \t torch.Size([1])\n"
     ]
    }
   ],
   "source": [
    "model = agent.net\n",
    "optimizer = agent.optimizer\n",
    "print(\"Model's state_dict:\")\n",
    "for param_tensor in model.state_dict():\n",
    "    print(param_tensor, \"\\t\", model.state_dict()[param_tensor].size())\n",
    "# print(\"Optimizer's state_dict:\")\n",
    "# for var_name in optimizer.state_dict():\n",
    "#     print(var_name, \"\\t\", optimizer.state_dict()[var_name])\n",
    "torch.save(model.state_dict(), \"models/invert_pend.pt\")"
   ]
  },
  {
   "attachments": {},
   "cell_type": "markdown",
   "metadata": {},
   "source": [
    "# Import"
   ]
  },
  {
   "cell_type": "code",
   "execution_count": 43,
   "metadata": {},
   "outputs": [
    {
     "data": {
      "text/plain": [
       "Policy_Network(\n",
       "  (shared_net): Sequential(\n",
       "    (0): Linear(in_features=4, out_features=16, bias=True)\n",
       "    (1): Tanh()\n",
       "    (2): Linear(in_features=16, out_features=32, bias=True)\n",
       "    (3): Tanh()\n",
       "  )\n",
       "  (policy_mean_net): Sequential(\n",
       "    (0): Linear(in_features=32, out_features=1, bias=True)\n",
       "  )\n",
       "  (policy_stddev_net): Sequential(\n",
       "    (0): Linear(in_features=32, out_features=1, bias=True)\n",
       "  )\n",
       ")"
      ]
     },
     "execution_count": 43,
     "metadata": {},
     "output_type": "execute_result"
    }
   ],
   "source": [
    "# Create and wrap the environment\n",
    "test_env = gym.make(\"InvertedPendulum-v4\", render_mode = \"human\")\n",
    "wrapped_test_env = gym.wrappers.RecordEpisodeStatistics(test_env, 50)  # Records episode-reward\n",
    "\n",
    "total_num_episodes = int(10)  # Total number of episodes\n",
    "# Observation-space of InvertedPendulum-v4 (4)\n",
    "obs_space_dims = test_env.observation_space.shape[0]\n",
    "# Action-space of InvertedPendulum-v4 (1)\n",
    "action_space_dims = test_env.action_space.shape[0]\n",
    "\n",
    "# Reinitialize agent every seed\n",
    "imported_agent = REINFORCE(obs_space_dims, action_space_dims)\n",
    "\n",
    "imported_agent.net.load_state_dict(torch.load(\"models/invert_pend_5k.pt\"))\n",
    "imported_agent.net.eval()"
   ]
  },
  {
   "cell_type": "code",
   "execution_count": 44,
   "metadata": {},
   "outputs": [
    {
     "ename": "KeyboardInterrupt",
     "evalue": "",
     "output_type": "error",
     "traceback": [
      "\u001b[0;31m---------------------------------------------------------------------------\u001b[0m",
      "\u001b[0;31mKeyboardInterrupt\u001b[0m                         Traceback (most recent call last)",
      "Cell \u001b[0;32mIn[44], line 15\u001b[0m\n\u001b[1;32m      9\u001b[0m action \u001b[39m=\u001b[39m imported_agent\u001b[39m.\u001b[39msample_action(obs)\n\u001b[1;32m     11\u001b[0m \u001b[39m# Step return type - `tuple[ObsType, SupportsFloat, bool, bool, dict[str, Any]]`\u001b[39;00m\n\u001b[1;32m     12\u001b[0m \u001b[39m# These represent the next observation, the reward from the step,\u001b[39;00m\n\u001b[1;32m     13\u001b[0m \u001b[39m# if the episode is terminated, if the episode is truncated and\u001b[39;00m\n\u001b[1;32m     14\u001b[0m \u001b[39m# additional info from the step\u001b[39;00m\n\u001b[0;32m---> 15\u001b[0m obs, reward, terminated, truncated, info \u001b[39m=\u001b[39m wrapped_test_env\u001b[39m.\u001b[39;49mstep(action)\n\u001b[1;32m     16\u001b[0m \u001b[39m#agent.rewards.append(reward)\u001b[39;00m\n\u001b[1;32m     17\u001b[0m \n\u001b[1;32m     18\u001b[0m \u001b[39m# End the episode when either truncated or terminated is true\u001b[39;00m\n\u001b[1;32m     19\u001b[0m \u001b[39m#  - truncated: The episode duration reaches max number of timesteps\u001b[39;00m\n\u001b[1;32m     20\u001b[0m \u001b[39m#  - terminated: Any of the state space values is no longer finite.\u001b[39;00m\n\u001b[1;32m     21\u001b[0m done \u001b[39m=\u001b[39m terminated \u001b[39mor\u001b[39;00m truncated\n",
      "File \u001b[0;32m~/anaconda3/envs/ML/lib/python3.10/site-packages/gymnasium/wrappers/record_episode_statistics.py:89\u001b[0m, in \u001b[0;36mRecordEpisodeStatistics.step\u001b[0;34m(self, action)\u001b[0m\n\u001b[1;32m     81\u001b[0m \u001b[39mdef\u001b[39;00m \u001b[39mstep\u001b[39m(\u001b[39mself\u001b[39m, action):\n\u001b[1;32m     82\u001b[0m \u001b[39m    \u001b[39m\u001b[39m\"\"\"Steps through the environment, recording the episode statistics.\"\"\"\u001b[39;00m\n\u001b[1;32m     83\u001b[0m     (\n\u001b[1;32m     84\u001b[0m         observations,\n\u001b[1;32m     85\u001b[0m         rewards,\n\u001b[1;32m     86\u001b[0m         terminations,\n\u001b[1;32m     87\u001b[0m         truncations,\n\u001b[1;32m     88\u001b[0m         infos,\n\u001b[0;32m---> 89\u001b[0m     ) \u001b[39m=\u001b[39m \u001b[39mself\u001b[39;49m\u001b[39m.\u001b[39;49menv\u001b[39m.\u001b[39;49mstep(action)\n\u001b[1;32m     90\u001b[0m     \u001b[39massert\u001b[39;00m \u001b[39misinstance\u001b[39m(\n\u001b[1;32m     91\u001b[0m         infos, \u001b[39mdict\u001b[39m\n\u001b[1;32m     92\u001b[0m     ), \u001b[39mf\u001b[39m\u001b[39m\"\u001b[39m\u001b[39m`info` dtype is \u001b[39m\u001b[39m{\u001b[39;00m\u001b[39mtype\u001b[39m(infos)\u001b[39m}\u001b[39;00m\u001b[39m while supported dtype is `dict`. This may be due to usage of other wrappers in the wrong order.\u001b[39m\u001b[39m\"\u001b[39m\n\u001b[1;32m     93\u001b[0m     \u001b[39mself\u001b[39m\u001b[39m.\u001b[39mepisode_returns \u001b[39m+\u001b[39m\u001b[39m=\u001b[39m rewards\n",
      "File \u001b[0;32m~/anaconda3/envs/ML/lib/python3.10/site-packages/gymnasium/wrappers/time_limit.py:57\u001b[0m, in \u001b[0;36mTimeLimit.step\u001b[0;34m(self, action)\u001b[0m\n\u001b[1;32m     46\u001b[0m \u001b[39mdef\u001b[39;00m \u001b[39mstep\u001b[39m(\u001b[39mself\u001b[39m, action):\n\u001b[1;32m     47\u001b[0m \u001b[39m    \u001b[39m\u001b[39m\"\"\"Steps through the environment and if the number of steps elapsed exceeds ``max_episode_steps`` then truncate.\u001b[39;00m\n\u001b[1;32m     48\u001b[0m \n\u001b[1;32m     49\u001b[0m \u001b[39m    Args:\u001b[39;00m\n\u001b[0;32m   (...)\u001b[0m\n\u001b[1;32m     55\u001b[0m \n\u001b[1;32m     56\u001b[0m \u001b[39m    \"\"\"\u001b[39;00m\n\u001b[0;32m---> 57\u001b[0m     observation, reward, terminated, truncated, info \u001b[39m=\u001b[39m \u001b[39mself\u001b[39;49m\u001b[39m.\u001b[39;49menv\u001b[39m.\u001b[39;49mstep(action)\n\u001b[1;32m     58\u001b[0m     \u001b[39mself\u001b[39m\u001b[39m.\u001b[39m_elapsed_steps \u001b[39m+\u001b[39m\u001b[39m=\u001b[39m \u001b[39m1\u001b[39m\n\u001b[1;32m     60\u001b[0m     \u001b[39mif\u001b[39;00m \u001b[39mself\u001b[39m\u001b[39m.\u001b[39m_elapsed_steps \u001b[39m>\u001b[39m\u001b[39m=\u001b[39m \u001b[39mself\u001b[39m\u001b[39m.\u001b[39m_max_episode_steps:\n",
      "File \u001b[0;32m~/anaconda3/envs/ML/lib/python3.10/site-packages/gymnasium/wrappers/order_enforcing.py:56\u001b[0m, in \u001b[0;36mOrderEnforcing.step\u001b[0;34m(self, action)\u001b[0m\n\u001b[1;32m     54\u001b[0m \u001b[39mif\u001b[39;00m \u001b[39mnot\u001b[39;00m \u001b[39mself\u001b[39m\u001b[39m.\u001b[39m_has_reset:\n\u001b[1;32m     55\u001b[0m     \u001b[39mraise\u001b[39;00m ResetNeeded(\u001b[39m\"\u001b[39m\u001b[39mCannot call env.step() before calling env.reset()\u001b[39m\u001b[39m\"\u001b[39m)\n\u001b[0;32m---> 56\u001b[0m \u001b[39mreturn\u001b[39;00m \u001b[39mself\u001b[39;49m\u001b[39m.\u001b[39;49menv\u001b[39m.\u001b[39;49mstep(action)\n",
      "File \u001b[0;32m~/anaconda3/envs/ML/lib/python3.10/site-packages/gymnasium/wrappers/env_checker.py:49\u001b[0m, in \u001b[0;36mPassiveEnvChecker.step\u001b[0;34m(self, action)\u001b[0m\n\u001b[1;32m     47\u001b[0m     \u001b[39mreturn\u001b[39;00m env_step_passive_checker(\u001b[39mself\u001b[39m\u001b[39m.\u001b[39menv, action)\n\u001b[1;32m     48\u001b[0m \u001b[39melse\u001b[39;00m:\n\u001b[0;32m---> 49\u001b[0m     \u001b[39mreturn\u001b[39;00m \u001b[39mself\u001b[39;49m\u001b[39m.\u001b[39;49menv\u001b[39m.\u001b[39;49mstep(action)\n",
      "File \u001b[0;32m~/anaconda3/envs/ML/lib/python3.10/site-packages/gymnasium/envs/mujoco/inverted_pendulum_v4.py:123\u001b[0m, in \u001b[0;36mInvertedPendulumEnv.step\u001b[0;34m(self, a)\u001b[0m\n\u001b[1;32m    121\u001b[0m terminated \u001b[39m=\u001b[39m \u001b[39mbool\u001b[39m(\u001b[39mnot\u001b[39;00m np\u001b[39m.\u001b[39misfinite(ob)\u001b[39m.\u001b[39mall() \u001b[39mor\u001b[39;00m (np\u001b[39m.\u001b[39mabs(ob[\u001b[39m1\u001b[39m]) \u001b[39m>\u001b[39m \u001b[39m0.2\u001b[39m))\n\u001b[1;32m    122\u001b[0m \u001b[39mif\u001b[39;00m \u001b[39mself\u001b[39m\u001b[39m.\u001b[39mrender_mode \u001b[39m==\u001b[39m \u001b[39m\"\u001b[39m\u001b[39mhuman\u001b[39m\u001b[39m\"\u001b[39m:\n\u001b[0;32m--> 123\u001b[0m     \u001b[39mself\u001b[39;49m\u001b[39m.\u001b[39;49mrender()\n\u001b[1;32m    124\u001b[0m \u001b[39mreturn\u001b[39;00m ob, reward, terminated, \u001b[39mFalse\u001b[39;00m, {}\n",
      "File \u001b[0;32m~/anaconda3/envs/ML/lib/python3.10/site-packages/gymnasium/envs/mujoco/mujoco_env.py:379\u001b[0m, in \u001b[0;36mMujocoEnv.render\u001b[0;34m(self)\u001b[0m\n\u001b[1;32m    378\u001b[0m \u001b[39mdef\u001b[39;00m \u001b[39mrender\u001b[39m(\u001b[39mself\u001b[39m):\n\u001b[0;32m--> 379\u001b[0m     \u001b[39mreturn\u001b[39;00m \u001b[39mself\u001b[39;49m\u001b[39m.\u001b[39;49mmujoco_renderer\u001b[39m.\u001b[39;49mrender(\n\u001b[1;32m    380\u001b[0m         \u001b[39mself\u001b[39;49m\u001b[39m.\u001b[39;49mrender_mode, \u001b[39mself\u001b[39;49m\u001b[39m.\u001b[39;49mcamera_id, \u001b[39mself\u001b[39;49m\u001b[39m.\u001b[39;49mcamera_name\n\u001b[1;32m    381\u001b[0m     )\n",
      "File \u001b[0;32m~/anaconda3/envs/ML/lib/python3.10/site-packages/gymnasium/envs/mujoco/mujoco_rendering.py:673\u001b[0m, in \u001b[0;36mMujocoRenderer.render\u001b[0;34m(self, render_mode, camera_id, camera_name)\u001b[0m\n\u001b[1;32m    670\u001b[0m     \u001b[39mreturn\u001b[39;00m img\n\u001b[1;32m    672\u001b[0m \u001b[39melif\u001b[39;00m render_mode \u001b[39m==\u001b[39m \u001b[39m\"\u001b[39m\u001b[39mhuman\u001b[39m\u001b[39m\"\u001b[39m:\n\u001b[0;32m--> 673\u001b[0m     \u001b[39mreturn\u001b[39;00m viewer\u001b[39m.\u001b[39;49mrender()\n",
      "File \u001b[0;32m~/anaconda3/envs/ML/lib/python3.10/site-packages/gymnasium/envs/mujoco/mujoco_rendering.py:413\u001b[0m, in \u001b[0;36mWindowViewer.render\u001b[0;34m(self)\u001b[0m\n\u001b[1;32m    411\u001b[0m         \u001b[39mself\u001b[39m\u001b[39m.\u001b[39m_loop_count \u001b[39m=\u001b[39m \u001b[39m1\u001b[39m\n\u001b[1;32m    412\u001b[0m     \u001b[39mwhile\u001b[39;00m \u001b[39mself\u001b[39m\u001b[39m.\u001b[39m_loop_count \u001b[39m>\u001b[39m \u001b[39m0\u001b[39m:\n\u001b[0;32m--> 413\u001b[0m         update()\n\u001b[1;32m    414\u001b[0m         \u001b[39mself\u001b[39m\u001b[39m.\u001b[39m_loop_count \u001b[39m-\u001b[39m\u001b[39m=\u001b[39m \u001b[39m1\u001b[39m\n\u001b[1;32m    416\u001b[0m \u001b[39m# clear overlay\u001b[39;00m\n",
      "File \u001b[0;32m~/anaconda3/envs/ML/lib/python3.10/site-packages/gymnasium/envs/mujoco/mujoco_rendering.py:385\u001b[0m, in \u001b[0;36mWindowViewer.render.<locals>.update\u001b[0;34m()\u001b[0m\n\u001b[1;32m    383\u001b[0m \u001b[39mif\u001b[39;00m \u001b[39mnot\u001b[39;00m \u001b[39mself\u001b[39m\u001b[39m.\u001b[39m_hide_menu:\n\u001b[1;32m    384\u001b[0m     \u001b[39mfor\u001b[39;00m gridpos, [t1, t2] \u001b[39min\u001b[39;00m \u001b[39mself\u001b[39m\u001b[39m.\u001b[39m_overlays\u001b[39m.\u001b[39mitems():\n\u001b[0;32m--> 385\u001b[0m         mujoco\u001b[39m.\u001b[39;49mmjr_overlay(\n\u001b[1;32m    386\u001b[0m             mujoco\u001b[39m.\u001b[39;49mmjtFontScale\u001b[39m.\u001b[39;49mmjFONTSCALE_150,\n\u001b[1;32m    387\u001b[0m             gridpos,\n\u001b[1;32m    388\u001b[0m             \u001b[39mself\u001b[39;49m\u001b[39m.\u001b[39;49mviewport,\n\u001b[1;32m    389\u001b[0m             t1,\n\u001b[1;32m    390\u001b[0m             t2,\n\u001b[1;32m    391\u001b[0m             \u001b[39mself\u001b[39;49m\u001b[39m.\u001b[39;49mcon,\n\u001b[1;32m    392\u001b[0m         )\n\u001b[1;32m    394\u001b[0m glfw\u001b[39m.\u001b[39mswap_buffers(\u001b[39mself\u001b[39m\u001b[39m.\u001b[39mwindow)\n\u001b[1;32m    395\u001b[0m glfw\u001b[39m.\u001b[39mpoll_events()\n",
      "\u001b[0;31mKeyboardInterrupt\u001b[0m: "
     ]
    }
   ],
   "source": [
    "reward_over_episodes = []\n",
    "\n",
    "for episode in range(total_num_episodes):\n",
    "    # gymnasium v26 requires users to set seed while resetting the environment\n",
    "    obs, info = wrapped_test_env.reset(seed=seed)\n",
    "\n",
    "    done = False\n",
    "    while not done:\n",
    "        action = imported_agent.sample_action(obs)\n",
    "\n",
    "        # Step return type - `tuple[ObsType, SupportsFloat, bool, bool, dict[str, Any]]`\n",
    "        # These represent the next observation, the reward from the step,\n",
    "        # if the episode is terminated, if the episode is truncated and\n",
    "        # additional info from the step\n",
    "        obs, reward, terminated, truncated, info = wrapped_test_env.step(action)\n",
    "        #agent.rewards.append(reward)\n",
    "\n",
    "        # End the episode when either truncated or terminated is true\n",
    "        #  - truncated: The episode duration reaches max number of timesteps\n",
    "        #  - terminated: Any of the state space values is no longer finite.\n",
    "        done = terminated or truncated\n",
    "\n",
    "    reward_over_episodes.append(wrapped_env.return_queue[-1])\n",
    "    \n",
    "\n",
    "    if episode % 1 == 0:\n",
    "        avg_reward = int(np.mean(wrapped_test_env.return_queue))\n",
    "        print(\"Episode:\", episode, \"Average Reward:\", avg_reward)"
   ]
  },
  {
   "cell_type": "code",
   "execution_count": 45,
   "metadata": {},
   "outputs": [],
   "source": [
    "test_env.close()"
   ]
  },
  {
   "cell_type": "code",
   "execution_count": null,
   "metadata": {},
   "outputs": [],
   "source": []
  }
 ],
 "metadata": {
  "kernelspec": {
   "display_name": "ML",
   "language": "python",
   "name": "python3"
  },
  "language_info": {
   "codemirror_mode": {
    "name": "ipython",
    "version": 3
   },
   "file_extension": ".py",
   "mimetype": "text/x-python",
   "name": "python",
   "nbconvert_exporter": "python",
   "pygments_lexer": "ipython3",
   "version": "3.10.11"
  },
  "orig_nbformat": 4
 },
 "nbformat": 4,
 "nbformat_minor": 2
}
